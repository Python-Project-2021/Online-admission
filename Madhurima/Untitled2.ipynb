{
 "cells": [
  {
   "cell_type": "code",
   "execution_count": null,
   "metadata": {},
   "outputs": [],
   "source": [
    "from tkinter import *\n",
    "from PIL import ImageTk, Image\n",
    "root = Tk()\n",
    "\n",
    "logo = ImageTk.PhotoImage(Image.open(\"STCET logo.png\"))\n",
    "label = Label(image = logo).grid(ipadx=450)\n",
    "\n",
    "e1 = Label(root, text = 'ST. THOMAS\\' COLLEGE OF ENGINEERING AND TECHNOLOGY', font=('Arial',10)) \n",
    "e1.grid(ipadx=450)\n",
    "e2 = Label(root, text = '4, Diamond Harbour Road, Alipore Body Guard Lines, Alipore, Kolkata, West Bengal 700023') \n",
    "e2.grid(ipadx=450)\n",
    "e3 = Label(root, text = 'Contact No.: (+033)2448-1081')\n",
    "e3.grid(ipadx=450)\n",
    "e4 = Label(root, text = 'Mail ID: stcet2000@gmail.com')\n",
    "e4.grid(ipadx=450)\n",
    "e5 = Label(root, text = 'STUDENT REGISTRATION FROM ', fg='blue', font=('Arial',13))\n",
    "e5.grid(ipadx=450)\n",
    "root.mainloop()"
   ]
  },
  {
   "cell_type": "code",
   "execution_count": null,
   "metadata": {},
   "outputs": [],
   "source": []
  },
  {
   "cell_type": "code",
   "execution_count": null,
   "metadata": {},
   "outputs": [],
   "source": []
  },
  {
   "cell_type": "code",
   "execution_count": null,
   "metadata": {},
   "outputs": [],
   "source": []
  }
 ],
 "metadata": {
  "kernelspec": {
   "display_name": "Python 3",
   "language": "python",
   "name": "python3"
  },
  "language_info": {
   "codemirror_mode": {
    "name": "ipython",
    "version": 3
   },
   "file_extension": ".py",
   "mimetype": "text/x-python",
   "name": "python",
   "nbconvert_exporter": "python",
   "pygments_lexer": "ipython3",
   "version": "3.8.5"
  }
 },
 "nbformat": 4,
 "nbformat_minor": 4
}
